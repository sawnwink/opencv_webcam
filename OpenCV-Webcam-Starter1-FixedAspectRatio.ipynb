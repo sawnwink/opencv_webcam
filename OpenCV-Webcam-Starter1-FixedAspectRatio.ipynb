{
 "cells": [
  {
   "cell_type": "code",
   "execution_count": 2,
   "id": "6c35c839",
   "metadata": {},
   "outputs": [],
   "source": [
    "# import the necessary packages\n",
    "from imutils.video import VideoStream\n",
    "import numpy as np\n",
    "import cv2\n",
    "import imutils\n",
    "\n",
    "# initialize the video stream \n",
    "vs = VideoStream(src=0).start()\n",
    "\n",
    "# loop over the frames from the video stream\n",
    "while True:\n",
    "\n",
    "    frame = vs.read()\n",
    "\n",
    "#   percent by which the image is resized\n",
    "    scale_percent = 100\n",
    "#   calculate a percent of original width\n",
    "    width = int(frame.shape[1] * scale_percent / 100)    \n",
    "#   imutils.resize() keeps the aspect ratio of a picture by specifying either width or height, \n",
    "    frame = imutils.resize(frame, width=width)  \n",
    "\n",
    "    # show the output frame\n",
    "    cv2.imshow(\"Video\", frame)\n",
    "    \n",
    "    # click esc key to break out of loop\n",
    "    if cv2.waitKey(1) & 0xFF == 27:\n",
    "        break\n",
    "\n",
    "# cleanup\n",
    "vs.stream.release()\n",
    "cv2.destroyAllWindows()\n"
   ]
  },
  {
   "cell_type": "code",
   "execution_count": null,
   "id": "0c29715f",
   "metadata": {},
   "outputs": [],
   "source": []
  },
  {
   "cell_type": "code",
   "execution_count": null,
   "id": "8230c912",
   "metadata": {},
   "outputs": [],
   "source": []
  },
  {
   "cell_type": "code",
   "execution_count": null,
   "id": "2a3d966e",
   "metadata": {},
   "outputs": [],
   "source": []
  }
 ],
 "metadata": {
  "kernelspec": {
   "display_name": "Python 3 (ipykernel)",
   "language": "python",
   "name": "python3"
  },
  "language_info": {
   "codemirror_mode": {
    "name": "ipython",
    "version": 3
   },
   "file_extension": ".py",
   "mimetype": "text/x-python",
   "name": "python",
   "nbconvert_exporter": "python",
   "pygments_lexer": "ipython3",
   "version": "3.7.13"
  }
 },
 "nbformat": 4,
 "nbformat_minor": 5
}
